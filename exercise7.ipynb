{
 "cells": [
  {
   "cell_type": "markdown",
   "id": "9bb16848",
   "metadata": {},
   "source": [
    "# Project Summary: Black-Scholes Option Pricing and Implied Volatility\n",
    "\n",
    "## 📈  Goal\n",
    "Explore the Black-Scholes pricing model for European call options, compute option prices, invert the model to find implied volatility, and visualize the implied volatility surface using real market data.\n",
    "\n",
    "---\n",
    "\n",
    "## 🧮 A – Analytical Call Price\n",
    "\n",
    "- Implement a Python function `Call(P0, r, sigma, T, K)` to compute the Black-Scholes price of a European call option.\n",
    "- Use the parameters:  \n",
    "  `P0 = 1`, `r = 0.05`, `sigma = 0.2`, `T = 2`, `K = 0.8`.\n",
    "\n",
    "✅ **Output**: Analytical call price using closed-form formula.\n",
    "\n",
    "---\n",
    "\n",
    "## 🔁 B – Implied Volatility (Inversion)\n",
    "\n",
    "- Implement a Python function `ImpliedVola(P0, r, T, K, C)` using `scipy.optimize.root`.\n",
    "- The function should solve for `sigma` such that the call price matches a given market price `C`.\n",
    "- Check correctness using the price from part (a).\n",
    "\n",
    "✅ **Output**: Implied volatility that fits the call price.\n",
    "\n",
    "---\n",
    "\n",
    "## 📊 C – Real Market Data (EuroStoxx 50)\n",
    "\n",
    "- Load `OptionValue.csv` containing call option prices for various strikes and maturities.\n",
    "- Extract maturities, risk-free rates, and option prices.\n",
    "- Use `P0 = 2890.62` (current EuroStoxx 50 price).\n",
    "- Compute implied volatilities for all entries using the function from part (b).\n",
    "\n",
    "✅ **Output**: Matrix of implied volatilities.\n",
    "\n",
    "---\n",
    "\n",
    "## 🌐 D – 3D Volatility Surface Plot\n",
    "\n",
    "- Plot the implied volatility surface using `matplotlib`’s 3D plotting tools:\n",
    "  ```python\n",
    "  ax = fig.add_subplot(111, projection='3d')\n"
   ]
  },
  {
   "cell_type": "code",
   "execution_count": 31,
   "id": "ef533aee",
   "metadata": {},
   "outputs": [],
   "source": [
    "import numpy as np\n",
    "from scipy.stats import norm\n",
    "from scipy.optimize import root\n",
    "import matplotlib.pyplot as plt"
   ]
  },
  {
   "cell_type": "code",
   "execution_count": 46,
   "id": "8a5c4484",
   "metadata": {},
   "outputs": [
    {
     "name": "stdout",
     "output_type": "stream",
     "text": [
      "The risk-neutral price of a European call option in the Black-Scholes model with parameters:\n",
      "initial price (P0) = 1\n",
      "risk-neutral drift (r) = 0.05\n",
      "volatility (sigma) = 0.2\n",
      "time to maturity (T) = 2\n",
      "strike price (K) = 0.8\n",
      "is:\n",
      "Call Price = 0.2912\n"
     ]
    }
   ],
   "source": [
    "# A - Black Scholes call price\n",
    "# parameters of BS pricing for a european call option\n",
    "p0 = 1      # initial price\n",
    "r = 0.05    # risk neutral drift\n",
    "sigma = 0.2 # volatility\n",
    "T = 2       # time to maturity\n",
    "K = 0.8     # strike price\n",
    "\n",
    "def BScall(p0, r, sigma,T,K):\n",
    "    d1 = (np.log(p0 / K) + (r + 0.5 * sigma * sigma) * T) / (sigma * np.sqrt(T))\n",
    "    d2 = d1 - sigma * np.sqrt(T)\n",
    "    call = p0 * norm.cdf(d1) - K * np.exp(-r * T) * norm.cdf(d2)\n",
    "    return call\n",
    "\n",
    "call = BScall(p0,r,sigma,T,K)\n",
    "\n",
    "print(f'The risk-neutral price of a European call option in the Black-Scholes model with parameters:\\n'\n",
    "      f'initial price (P0) = {p0}\\n'\n",
    "      f'risk-neutral drift (r) = {r}\\n'\n",
    "      f'volatility (sigma) = {sigma}\\n'\n",
    "      f'time to maturity (T) = {T}\\n'\n",
    "      f'strike price (K) = {K}\\n'\n",
    "      f'is:\\n'\n",
    "      f'Call Price = {call:.4f}')"
   ]
  },
  {
   "cell_type": "code",
   "execution_count": null,
   "id": "5044af62",
   "metadata": {},
   "outputs": [
    {
     "name": "stdout",
     "output_type": "stream",
     "text": [
      "Implied Volatility Calculation:\n",
      "  Given call price: 0.2912\n",
      "  Implied Volatility: 0.2000\n",
      "  True Volatility: 0.2000\n"
     ]
    }
   ],
   "source": [
    "# B implied volatility\n",
    "def ImpliedVola(p0,r,T,K,C):\n",
    "    f = lambda x: (BScall(p0,r,x,T,K) - C)\n",
    "    return root(fun=f, x0 = 1).x[0]     #taking sigma0=1.0 is a reasonable first guess\n",
    "isigma = ImpliedVola(p0,r,T,K,call)\n",
    "print(f'''Implied Volatility Calculation:\n",
    "  Given call price: {call:.4f}\n",
    "  Implied Volatility: {isigma:.4f}\n",
    "  True Volatility: {sigma:.4f}''')\n"
   ]
  },
  {
   "cell_type": "code",
   "execution_count": 48,
   "id": "feb98e69",
   "metadata": {},
   "outputs": [
    {
     "ename": "FileNotFoundError",
     "evalue": "[Errno 2] No such file or directory: './OptionValue.csv'",
     "output_type": "error",
     "traceback": [
      "\u001b[0;31m---------------------------------------------------------------------------\u001b[0m",
      "\u001b[0;31mFileNotFoundError\u001b[0m                         Traceback (most recent call last)",
      "Cell \u001b[0;32mIn[48], line 2\u001b[0m\n\u001b[1;32m      1\u001b[0m \u001b[38;5;66;03m# C computing implied volatilities 'OptionValue.csv'\u001b[39;00m\n\u001b[0;32m----> 2\u001b[0m optiondata \u001b[38;5;241m=\u001b[39m \u001b[43mnp\u001b[49m\u001b[38;5;241;43m.\u001b[39;49m\u001b[43mload\u001b[49m\u001b[43m(\u001b[49m\u001b[38;5;124;43m'\u001b[39;49m\u001b[38;5;124;43m./OptionValue.csv\u001b[39;49m\u001b[38;5;124;43m'\u001b[39;49m\u001b[43m)\u001b[49m\n",
      "File \u001b[0;32m~/miniconda3/envs/tum/lib/python3.10/site-packages/numpy/lib/_npyio_impl.py:455\u001b[0m, in \u001b[0;36mload\u001b[0;34m(file, mmap_mode, allow_pickle, fix_imports, encoding, max_header_size)\u001b[0m\n\u001b[1;32m    453\u001b[0m     own_fid \u001b[38;5;241m=\u001b[39m \u001b[38;5;28;01mFalse\u001b[39;00m\n\u001b[1;32m    454\u001b[0m \u001b[38;5;28;01melse\u001b[39;00m:\n\u001b[0;32m--> 455\u001b[0m     fid \u001b[38;5;241m=\u001b[39m stack\u001b[38;5;241m.\u001b[39menter_context(\u001b[38;5;28;43mopen\u001b[39;49m\u001b[43m(\u001b[49m\u001b[43mos\u001b[49m\u001b[38;5;241;43m.\u001b[39;49m\u001b[43mfspath\u001b[49m\u001b[43m(\u001b[49m\u001b[43mfile\u001b[49m\u001b[43m)\u001b[49m\u001b[43m,\u001b[49m\u001b[43m \u001b[49m\u001b[38;5;124;43m\"\u001b[39;49m\u001b[38;5;124;43mrb\u001b[39;49m\u001b[38;5;124;43m\"\u001b[39;49m\u001b[43m)\u001b[49m)\n\u001b[1;32m    456\u001b[0m     own_fid \u001b[38;5;241m=\u001b[39m \u001b[38;5;28;01mTrue\u001b[39;00m\n\u001b[1;32m    458\u001b[0m \u001b[38;5;66;03m# Code to distinguish from NumPy binary files and pickles.\u001b[39;00m\n",
      "\u001b[0;31mFileNotFoundError\u001b[0m: [Errno 2] No such file or directory: './OptionValue.csv'"
     ]
    }
   ],
   "source": [
    "# C computing implied volatilities 'OptionValue.csv'\n",
    "optiondata = np.load('./OptionValue.csv')\n"
   ]
  }
 ],
 "metadata": {
  "kernelspec": {
   "display_name": "tum",
   "language": "python",
   "name": "python3"
  },
  "language_info": {
   "codemirror_mode": {
    "name": "ipython",
    "version": 3
   },
   "file_extension": ".py",
   "mimetype": "text/x-python",
   "name": "python",
   "nbconvert_exporter": "python",
   "pygments_lexer": "ipython3",
   "version": "3.10.16"
  }
 },
 "nbformat": 4,
 "nbformat_minor": 5
}
